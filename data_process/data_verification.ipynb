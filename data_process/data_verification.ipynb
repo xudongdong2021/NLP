{
 "cells": [
  {
   "cell_type": "code",
   "execution_count": 16,
   "metadata": {
    "collapsed": true,
    "ExecuteTime": {
     "end_time": "2023-08-26T11:21:12.983480800Z",
     "start_time": "2023-08-26T11:21:12.947482400Z"
    }
   },
   "outputs": [],
   "source": [
    "import pandas as pd\n"
   ]
  },
  {
   "cell_type": "code",
   "execution_count": 17,
   "outputs": [
    {
     "data": {
      "text/plain": "                                        sentence  \\\n602                              莱 克 北 极 星 洗 地 机   \n108                水 晶 炫 金 色 日 立 六 门 原 装 进 口 冰 箱   \n400                                    樱 花 电 蒸 箱   \n696                      京 瓷 黑 白 多 功 能 数 码 复 合 机   \n186                                      美 诺 酒 柜   \n622                                联 想 手 机 钛 晶 灰   \n699  联 想 激 光 多 功 能 一 体 机 四 合 一 黑 白 页 双 面 网 络 电 话   \n837                            华 硕 英 寸 双 屏 笔 记 本   \n792                            联 想 英 寸 笔 记 本 电 脑   \n217                              东 芝 法 式 四 门 冰 箱   \n\n                                           word_labels  \n602               B-BRA,I-BRA,O,O,O,B-PRO,I-PRO,I-PRO,  \n108     O,O,O,O,O,B-BRA,I-BRA,O,O,O,O,O,O,B-PRO,I-PRO,  \n400                     B-BRA,I-BRA,B-PRO,I-PRO,I-PRO,  \n696  B-BRA,I-BRA,O,O,O,O,O,B-PRO,I-PRO,I-PRO,I-PRO,...  \n186                           B-BRA,I-BRA,B-PRO,I-PRO,  \n622                     B-BRA,I-BRA,B-PRO,I-PRO,O,O,O,  \n699  B-BRA,I-BRA,O,O,B-PRO,I-PRO,I-PRO,I-PRO,I-PRO,...  \n837             B-BRA,I-BRA,O,O,O,O,B-PRO,I-PRO,I-PRO,  \n792     B-BRA,I-BRA,O,O,B-PRO,I-PRO,I-PRO,I-PRO,I-PRO,  \n217                   B-BRA,I-BRA,O,O,O,O,B-PRO,I-PRO,  ",
      "text/html": "<div>\n<style scoped>\n    .dataframe tbody tr th:only-of-type {\n        vertical-align: middle;\n    }\n\n    .dataframe tbody tr th {\n        vertical-align: top;\n    }\n\n    .dataframe thead th {\n        text-align: right;\n    }\n</style>\n<table border=\"1\" class=\"dataframe\">\n  <thead>\n    <tr style=\"text-align: right;\">\n      <th></th>\n      <th>sentence</th>\n      <th>word_labels</th>\n    </tr>\n  </thead>\n  <tbody>\n    <tr>\n      <th>602</th>\n      <td>莱 克 北 极 星 洗 地 机</td>\n      <td>B-BRA,I-BRA,O,O,O,B-PRO,I-PRO,I-PRO,</td>\n    </tr>\n    <tr>\n      <th>108</th>\n      <td>水 晶 炫 金 色 日 立 六 门 原 装 进 口 冰 箱</td>\n      <td>O,O,O,O,O,B-BRA,I-BRA,O,O,O,O,O,O,B-PRO,I-PRO,</td>\n    </tr>\n    <tr>\n      <th>400</th>\n      <td>樱 花 电 蒸 箱</td>\n      <td>B-BRA,I-BRA,B-PRO,I-PRO,I-PRO,</td>\n    </tr>\n    <tr>\n      <th>696</th>\n      <td>京 瓷 黑 白 多 功 能 数 码 复 合 机</td>\n      <td>B-BRA,I-BRA,O,O,O,O,O,B-PRO,I-PRO,I-PRO,I-PRO,...</td>\n    </tr>\n    <tr>\n      <th>186</th>\n      <td>美 诺 酒 柜</td>\n      <td>B-BRA,I-BRA,B-PRO,I-PRO,</td>\n    </tr>\n    <tr>\n      <th>622</th>\n      <td>联 想 手 机 钛 晶 灰</td>\n      <td>B-BRA,I-BRA,B-PRO,I-PRO,O,O,O,</td>\n    </tr>\n    <tr>\n      <th>699</th>\n      <td>联 想 激 光 多 功 能 一 体 机 四 合 一 黑 白 页 双 面 网 络 电 话</td>\n      <td>B-BRA,I-BRA,O,O,B-PRO,I-PRO,I-PRO,I-PRO,I-PRO,...</td>\n    </tr>\n    <tr>\n      <th>837</th>\n      <td>华 硕 英 寸 双 屏 笔 记 本</td>\n      <td>B-BRA,I-BRA,O,O,O,O,B-PRO,I-PRO,I-PRO,</td>\n    </tr>\n    <tr>\n      <th>792</th>\n      <td>联 想 英 寸 笔 记 本 电 脑</td>\n      <td>B-BRA,I-BRA,O,O,B-PRO,I-PRO,I-PRO,I-PRO,I-PRO,</td>\n    </tr>\n    <tr>\n      <th>217</th>\n      <td>东 芝 法 式 四 门 冰 箱</td>\n      <td>B-BRA,I-BRA,O,O,O,O,B-PRO,I-PRO,</td>\n    </tr>\n  </tbody>\n</table>\n</div>"
     },
     "execution_count": 17,
     "metadata": {},
     "output_type": "execute_result"
    }
   ],
   "source": [
    "df = pd.read_csv('data.csv', usecols=['sentence','word_labels'], encoding='ansi')\n",
    "df.sample(10)"
   ],
   "metadata": {
    "collapsed": false,
    "ExecuteTime": {
     "end_time": "2023-08-26T11:21:12.984477800Z",
     "start_time": "2023-08-26T11:21:12.962483Z"
    }
   }
  },
  {
   "cell_type": "code",
   "execution_count": 18,
   "outputs": [],
   "source": [
    "df['word_labels'] = df['word_labels'].apply(lambda x: x.strip(\",\"))"
   ],
   "metadata": {
    "collapsed": false,
    "ExecuteTime": {
     "end_time": "2023-08-26T11:21:13.025247100Z",
     "start_time": "2023-08-26T11:21:12.985484200Z"
    }
   }
  },
  {
   "cell_type": "code",
   "execution_count": 19,
   "outputs": [
    {
     "data": {
      "text/plain": "              sentence                                  word_labels\n0      卡 萨 帝 波 轮 洗 衣 机      B-BRA,I-BRA,I-BRA,O,O,B-PRO,I-PRO,I-PRO\n1        海 尔 波 轮 洗 衣 机            B-BRA,I-BRA,O,O,B-PRO,I-PRO,I-PRO\n2  卡 萨 帝 迷 你 波 轮 洗 衣 机  B-BRA,I-BRA,I-BRA,O,O,O,O,B-PRO,I-PRO,I-PRO\n3                整 理 台                            B-PRO,I-PRO,I-PRO\n4    博 世 两 门 嵌 入 式 冰 箱            B-BRA,I-BRA,O,O,O,O,O,B-PRO,I-PRO",
      "text/html": "<div>\n<style scoped>\n    .dataframe tbody tr th:only-of-type {\n        vertical-align: middle;\n    }\n\n    .dataframe tbody tr th {\n        vertical-align: top;\n    }\n\n    .dataframe thead th {\n        text-align: right;\n    }\n</style>\n<table border=\"1\" class=\"dataframe\">\n  <thead>\n    <tr style=\"text-align: right;\">\n      <th></th>\n      <th>sentence</th>\n      <th>word_labels</th>\n    </tr>\n  </thead>\n  <tbody>\n    <tr>\n      <th>0</th>\n      <td>卡 萨 帝 波 轮 洗 衣 机</td>\n      <td>B-BRA,I-BRA,I-BRA,O,O,B-PRO,I-PRO,I-PRO</td>\n    </tr>\n    <tr>\n      <th>1</th>\n      <td>海 尔 波 轮 洗 衣 机</td>\n      <td>B-BRA,I-BRA,O,O,B-PRO,I-PRO,I-PRO</td>\n    </tr>\n    <tr>\n      <th>2</th>\n      <td>卡 萨 帝 迷 你 波 轮 洗 衣 机</td>\n      <td>B-BRA,I-BRA,I-BRA,O,O,O,O,B-PRO,I-PRO,I-PRO</td>\n    </tr>\n    <tr>\n      <th>3</th>\n      <td>整 理 台</td>\n      <td>B-PRO,I-PRO,I-PRO</td>\n    </tr>\n    <tr>\n      <th>4</th>\n      <td>博 世 两 门 嵌 入 式 冰 箱</td>\n      <td>B-BRA,I-BRA,O,O,O,O,O,B-PRO,I-PRO</td>\n    </tr>\n  </tbody>\n</table>\n</div>"
     },
     "execution_count": 19,
     "metadata": {},
     "output_type": "execute_result"
    }
   ],
   "source": [
    "df.head()"
   ],
   "metadata": {
    "collapsed": false,
    "ExecuteTime": {
     "end_time": "2023-08-26T11:21:13.090258400Z",
     "start_time": "2023-08-26T11:21:13.025247100Z"
    }
   }
  },
  {
   "cell_type": "code",
   "execution_count": 20,
   "outputs": [],
   "source": [
    "df['len_sen'] = df['sentence'].apply(lambda x: len(x.split(\" \")))\n",
    "df['len_label'] = df['word_labels'].apply(lambda x: len(x.split(\",\")))"
   ],
   "metadata": {
    "collapsed": false,
    "ExecuteTime": {
     "end_time": "2023-08-26T11:21:13.135720900Z",
     "start_time": "2023-08-26T11:21:13.042264200Z"
    }
   }
  },
  {
   "cell_type": "code",
   "execution_count": 21,
   "outputs": [
    {
     "data": {
      "text/plain": "              sentence                                  word_labels  len_sen  \\\n0      卡 萨 帝 波 轮 洗 衣 机      B-BRA,I-BRA,I-BRA,O,O,B-PRO,I-PRO,I-PRO        8   \n1        海 尔 波 轮 洗 衣 机            B-BRA,I-BRA,O,O,B-PRO,I-PRO,I-PRO        7   \n2  卡 萨 帝 迷 你 波 轮 洗 衣 机  B-BRA,I-BRA,I-BRA,O,O,O,O,B-PRO,I-PRO,I-PRO       10   \n3                整 理 台                            B-PRO,I-PRO,I-PRO        3   \n4    博 世 两 门 嵌 入 式 冰 箱            B-BRA,I-BRA,O,O,O,O,O,B-PRO,I-PRO        9   \n\n   len_label  \n0          8  \n1          7  \n2         10  \n3          3  \n4          9  ",
      "text/html": "<div>\n<style scoped>\n    .dataframe tbody tr th:only-of-type {\n        vertical-align: middle;\n    }\n\n    .dataframe tbody tr th {\n        vertical-align: top;\n    }\n\n    .dataframe thead th {\n        text-align: right;\n    }\n</style>\n<table border=\"1\" class=\"dataframe\">\n  <thead>\n    <tr style=\"text-align: right;\">\n      <th></th>\n      <th>sentence</th>\n      <th>word_labels</th>\n      <th>len_sen</th>\n      <th>len_label</th>\n    </tr>\n  </thead>\n  <tbody>\n    <tr>\n      <th>0</th>\n      <td>卡 萨 帝 波 轮 洗 衣 机</td>\n      <td>B-BRA,I-BRA,I-BRA,O,O,B-PRO,I-PRO,I-PRO</td>\n      <td>8</td>\n      <td>8</td>\n    </tr>\n    <tr>\n      <th>1</th>\n      <td>海 尔 波 轮 洗 衣 机</td>\n      <td>B-BRA,I-BRA,O,O,B-PRO,I-PRO,I-PRO</td>\n      <td>7</td>\n      <td>7</td>\n    </tr>\n    <tr>\n      <th>2</th>\n      <td>卡 萨 帝 迷 你 波 轮 洗 衣 机</td>\n      <td>B-BRA,I-BRA,I-BRA,O,O,O,O,B-PRO,I-PRO,I-PRO</td>\n      <td>10</td>\n      <td>10</td>\n    </tr>\n    <tr>\n      <th>3</th>\n      <td>整 理 台</td>\n      <td>B-PRO,I-PRO,I-PRO</td>\n      <td>3</td>\n      <td>3</td>\n    </tr>\n    <tr>\n      <th>4</th>\n      <td>博 世 两 门 嵌 入 式 冰 箱</td>\n      <td>B-BRA,I-BRA,O,O,O,O,O,B-PRO,I-PRO</td>\n      <td>9</td>\n      <td>9</td>\n    </tr>\n  </tbody>\n</table>\n</div>"
     },
     "execution_count": 21,
     "metadata": {},
     "output_type": "execute_result"
    }
   ],
   "source": [
    "df.head()"
   ],
   "metadata": {
    "collapsed": false,
    "ExecuteTime": {
     "end_time": "2023-08-26T11:21:13.164284800Z",
     "start_time": "2023-08-26T11:21:13.062315800Z"
    }
   }
  },
  {
   "cell_type": "code",
   "execution_count": 22,
   "outputs": [
    {
     "data": {
      "text/plain": "Empty DataFrame\nColumns: [sentence, word_labels, len_sen, len_label]\nIndex: []",
      "text/html": "<div>\n<style scoped>\n    .dataframe tbody tr th:only-of-type {\n        vertical-align: middle;\n    }\n\n    .dataframe tbody tr th {\n        vertical-align: top;\n    }\n\n    .dataframe thead th {\n        text-align: right;\n    }\n</style>\n<table border=\"1\" class=\"dataframe\">\n  <thead>\n    <tr style=\"text-align: right;\">\n      <th></th>\n      <th>sentence</th>\n      <th>word_labels</th>\n      <th>len_sen</th>\n      <th>len_label</th>\n    </tr>\n  </thead>\n  <tbody>\n  </tbody>\n</table>\n</div>"
     },
     "execution_count": 22,
     "metadata": {},
     "output_type": "execute_result"
    }
   ],
   "source": [
    "df[df['len_sen'] != df['len_label']]"
   ],
   "metadata": {
    "collapsed": false,
    "ExecuteTime": {
     "end_time": "2023-08-26T11:21:13.164284800Z",
     "start_time": "2023-08-26T11:21:13.080264800Z"
    }
   }
  },
  {
   "cell_type": "code",
   "execution_count": 22,
   "outputs": [],
   "source": [],
   "metadata": {
    "collapsed": false,
    "ExecuteTime": {
     "end_time": "2023-08-26T11:21:13.189536600Z",
     "start_time": "2023-08-26T11:21:13.094266100Z"
    }
   }
  }
 ],
 "metadata": {
  "kernelspec": {
   "display_name": "Python 3",
   "language": "python",
   "name": "python3"
  },
  "language_info": {
   "codemirror_mode": {
    "name": "ipython",
    "version": 2
   },
   "file_extension": ".py",
   "mimetype": "text/x-python",
   "name": "python",
   "nbconvert_exporter": "python",
   "pygments_lexer": "ipython2",
   "version": "2.7.6"
  }
 },
 "nbformat": 4,
 "nbformat_minor": 0
}
