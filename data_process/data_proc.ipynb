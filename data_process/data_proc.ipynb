{
 "cells": [
  {
   "cell_type": "code",
   "execution_count": 273,
   "metadata": {
    "collapsed": true,
    "ExecuteTime": {
     "end_time": "2023-08-25T06:25:57.400487500Z",
     "start_time": "2023-08-25T06:25:57.310047Z"
    }
   },
   "outputs": [],
   "source": [
    "import pandas as pd\n",
    "import re"
   ]
  },
  {
   "cell_type": "code",
   "execution_count": 274,
   "outputs": [
    {
     "data": {
      "text/plain": "                                                 描述   品牌\n1456  幽灵 Spectre14 x360-ef2007TU(摩卡金)惠普13.5寸翻转触控笔记本   HP\n11                ☆*KFNS 37452iDEC （晶钻白）美诺255升嵌入式冰箱  MEL\n272                      ●WSD374A00W（白色）博世12公斤洗烘一体机  BOS\n1758                           HU263L(DG)（深灰色）惠人原汁机  HUR\n1556            华为智慧屏B7-50055寸HEGE-550AX（4+32GB）星空灰  HUW\n1586  *RZ03-03542600-R3M1(绿)雷蛇绿轴黑寡妇蜘蛛V3 HALO特别版有线游戏   LS\n1025                           ●M11R PLUS（香槟金）莱克吸尘器  LEX\n1466  GeekPro-17IAB I5F16G512GB11(黑色)联想GeekPro 2022  LXD\n266                 LWX8C1612W(白色)AEG进口10KG带烘干滚筒洗衣机  AEG\n1196                 ○●PHK110(冰河蓝)一加Ace216+512G娱乐手机   1+",
      "text/html": "<div>\n<style scoped>\n    .dataframe tbody tr th:only-of-type {\n        vertical-align: middle;\n    }\n\n    .dataframe tbody tr th {\n        vertical-align: top;\n    }\n\n    .dataframe thead th {\n        text-align: right;\n    }\n</style>\n<table border=\"1\" class=\"dataframe\">\n  <thead>\n    <tr style=\"text-align: right;\">\n      <th></th>\n      <th>描述</th>\n      <th>品牌</th>\n    </tr>\n  </thead>\n  <tbody>\n    <tr>\n      <th>1456</th>\n      <td>幽灵 Spectre14 x360-ef2007TU(摩卡金)惠普13.5寸翻转触控笔记本</td>\n      <td>HP</td>\n    </tr>\n    <tr>\n      <th>11</th>\n      <td>☆*KFNS 37452iDEC （晶钻白）美诺255升嵌入式冰箱</td>\n      <td>MEL</td>\n    </tr>\n    <tr>\n      <th>272</th>\n      <td>●WSD374A00W（白色）博世12公斤洗烘一体机</td>\n      <td>BOS</td>\n    </tr>\n    <tr>\n      <th>1758</th>\n      <td>HU263L(DG)（深灰色）惠人原汁机</td>\n      <td>HUR</td>\n    </tr>\n    <tr>\n      <th>1556</th>\n      <td>华为智慧屏B7-50055寸HEGE-550AX（4+32GB）星空灰</td>\n      <td>HUW</td>\n    </tr>\n    <tr>\n      <th>1586</th>\n      <td>*RZ03-03542600-R3M1(绿)雷蛇绿轴黑寡妇蜘蛛V3 HALO特别版有线游戏</td>\n      <td>LS</td>\n    </tr>\n    <tr>\n      <th>1025</th>\n      <td>●M11R PLUS（香槟金）莱克吸尘器</td>\n      <td>LEX</td>\n    </tr>\n    <tr>\n      <th>1466</th>\n      <td>GeekPro-17IAB I5F16G512GB11(黑色)联想GeekPro 2022</td>\n      <td>LXD</td>\n    </tr>\n    <tr>\n      <th>266</th>\n      <td>LWX8C1612W(白色)AEG进口10KG带烘干滚筒洗衣机</td>\n      <td>AEG</td>\n    </tr>\n    <tr>\n      <th>1196</th>\n      <td>○●PHK110(冰河蓝)一加Ace216+512G娱乐手机</td>\n      <td>1+</td>\n    </tr>\n  </tbody>\n</table>\n</div>"
     },
     "execution_count": 274,
     "metadata": {},
     "output_type": "execute_result"
    }
   ],
   "source": [
    "# 导入数据\n",
    "df = pd.read_csv('../data/data.csv', encoding='ansi')\n",
    "df.sample(10)"
   ],
   "metadata": {
    "collapsed": false,
    "ExecuteTime": {
     "end_time": "2023-08-25T06:25:57.402488Z",
     "start_time": "2023-08-25T06:25:57.324062700Z"
    }
   }
  },
  {
   "cell_type": "code",
   "execution_count": 275,
   "outputs": [],
   "source": [
    "df['原描述'] = df['描述']"
   ],
   "metadata": {
    "collapsed": false,
    "ExecuteTime": {
     "end_time": "2023-08-25T06:25:57.402488Z",
     "start_time": "2023-08-25T06:25:57.353579800Z"
    }
   }
  },
  {
   "cell_type": "code",
   "execution_count": 276,
   "outputs": [],
   "source": [
    "# 构建品牌替换字典\n",
    "branch_dic = {'iPhone':'苹果手机','iPad':'苹果平板','Apple Watch':'苹果手表','iMac':'苹果电脑','Apple Studio Display':'苹果显示屏','MacStudio':'苹果电脑','MacBook':'苹果笔记本电脑','HomePod':'苹果音响','AirPods':'苹果耳机','OPPO':'欧珀','VIVO':'维沃','vivo':'维沃','Vivo':'维沃','MateBook':'笔记本电脑','HP　ProBook':'惠普笔记本电脑','HP　ProDesk':'惠普台式机','THINKPADE':'笔记本电脑','PlayStation':'游戏主机','Matestation':'一体机'}"
   ],
   "metadata": {
    "collapsed": false,
    "ExecuteTime": {
     "end_time": "2023-08-25T06:25:57.402488Z",
     "start_time": "2023-08-25T06:25:57.371182800Z"
    }
   }
  },
  {
   "cell_type": "code",
   "execution_count": 277,
   "outputs": [
    {
     "data": {
      "text/plain": "                       描述   品牌                                            原描述\n1066                墨 羽 色   HX                            Redmi K60 墨羽色 8+256\n1136            维 沃 星 夜 黑  VIV             V2230A vivoY35m(8G+128G)星夜黑（电信厅专供）\n1779        华 为 手 表 雅 致 款  HUW                     ○MIL-B19(白色)华为GT3手表42mm雅致款\n900             火 王 油 烟 机   HW                    CXW-285-F7A（黑/顶侧双吸）火王F7A油烟机\n883       博 世 欧 式 型 油 烟 机  BOS                           ☆*DKE178BTI博世欧式T型油烟机\n1180              娱 乐 手 机  HIN         *○MGZ-BD00(曜金黑)Hinova10Pro(8+128G)娱乐手机\n194         进 口 滚 筒 洗 衣 机  AEG                ☆*L6FEG1412N(白色)AEG 10KG进口滚筒洗衣机\n1386            戴 尔 单 主 机  DEL  戴尔(DELL)7080MT单主机 I7-10700/8GB/128GSSD+1TB SA\n593             林 内 采 暖 炉  LNP                               ☆*RBS-32K88林内采暖炉\n531   林 内 强 排 式 燃 气 热 水 器   LN              RUS-R24E86FRF（内置循环水）林内24升强排式燃气热水器",
      "text/html": "<div>\n<style scoped>\n    .dataframe tbody tr th:only-of-type {\n        vertical-align: middle;\n    }\n\n    .dataframe tbody tr th {\n        vertical-align: top;\n    }\n\n    .dataframe thead th {\n        text-align: right;\n    }\n</style>\n<table border=\"1\" class=\"dataframe\">\n  <thead>\n    <tr style=\"text-align: right;\">\n      <th></th>\n      <th>描述</th>\n      <th>品牌</th>\n      <th>原描述</th>\n    </tr>\n  </thead>\n  <tbody>\n    <tr>\n      <th>1066</th>\n      <td>墨 羽 色</td>\n      <td>HX</td>\n      <td>Redmi K60 墨羽色 8+256</td>\n    </tr>\n    <tr>\n      <th>1136</th>\n      <td>维 沃 星 夜 黑</td>\n      <td>VIV</td>\n      <td>V2230A vivoY35m(8G+128G)星夜黑（电信厅专供）</td>\n    </tr>\n    <tr>\n      <th>1779</th>\n      <td>华 为 手 表 雅 致 款</td>\n      <td>HUW</td>\n      <td>○MIL-B19(白色)华为GT3手表42mm雅致款</td>\n    </tr>\n    <tr>\n      <th>900</th>\n      <td>火 王 油 烟 机</td>\n      <td>HW</td>\n      <td>CXW-285-F7A（黑/顶侧双吸）火王F7A油烟机</td>\n    </tr>\n    <tr>\n      <th>883</th>\n      <td>博 世 欧 式 型 油 烟 机</td>\n      <td>BOS</td>\n      <td>☆*DKE178BTI博世欧式T型油烟机</td>\n    </tr>\n    <tr>\n      <th>1180</th>\n      <td>娱 乐 手 机</td>\n      <td>HIN</td>\n      <td>*○MGZ-BD00(曜金黑)Hinova10Pro(8+128G)娱乐手机</td>\n    </tr>\n    <tr>\n      <th>194</th>\n      <td>进 口 滚 筒 洗 衣 机</td>\n      <td>AEG</td>\n      <td>☆*L6FEG1412N(白色)AEG 10KG进口滚筒洗衣机</td>\n    </tr>\n    <tr>\n      <th>1386</th>\n      <td>戴 尔 单 主 机</td>\n      <td>DEL</td>\n      <td>戴尔(DELL)7080MT单主机 I7-10700/8GB/128GSSD+1TB SA</td>\n    </tr>\n    <tr>\n      <th>593</th>\n      <td>林 内 采 暖 炉</td>\n      <td>LNP</td>\n      <td>☆*RBS-32K88林内采暖炉</td>\n    </tr>\n    <tr>\n      <th>531</th>\n      <td>林 内 强 排 式 燃 气 热 水 器</td>\n      <td>LN</td>\n      <td>RUS-R24E86FRF（内置循环水）林内24升强排式燃气热水器</td>\n    </tr>\n  </tbody>\n</table>\n</div>"
     },
     "execution_count": 277,
     "metadata": {},
     "output_type": "execute_result"
    }
   ],
   "source": [
    "# 数据清洗\n",
    "# def data_clean(df, col_name: str, branch_dic) -> object:\n",
    "#     df[col_name] = df[col_name].replace(branch_dic, regex=True)  # 特定英文品牌替换\n",
    "#     df[col_name] = df[col_name].apply(lambda x: re.sub(r\"\\(.*?\\)|\\（.*?\\）|\\(.*?\\）|\\（.*?\\)|\\【.*?\\】\", \"\", x))  # 去除括号及括号内的内容\n",
    "#     df[col_name] = df[col_name].apply(lambda x: re.sub('[☆*○●◇△？#&$Ⅱ,（）()=\\-/\\.a-zA-Z\\d+]', '', x))  # 去除特殊符号及英文\n",
    "#     df[col_name] = df[col_name].apply(lambda x: \" \".join([word for word in re.findall('[^\\x4e00-\\x9fa5]', x) if word != \" \"]))  # 中文字符提取及拼接\n",
    "#     df[col_name] = df[col_name].apply(lambda x: re.sub(\"公|斤|升\", \"\", x))   # 去除”公斤、斤、升“\n",
    "#     df.drop_duplicates(subset=[col_name], inplace=True)  # 去重\n",
    "#     return df\n",
    "\n",
    "# 数据清洗\n",
    "def data_clean(text) -> str:\n",
    "    text = re.sub(r\"\\(.*?\\)|\\（.*?\\）|\\(.*?\\）|\\（.*?\\)|\\【.*?\\】\", \"\", text) # 去除括号及括号内的内容\n",
    "    text = re.sub('[☆*○●◇△？#&$Ⅱ,（）()=－\\-/\\.a-zA-Z\\d+]', '', text)   # 去除特殊符号及英文\n",
    "    text = re.sub(\"公|斤|升\", \"\", text)  # 去除”公斤、斤、升“\n",
    "    text = \" \".join([word for word in re.findall('[^\\x4e00-\\x9fa5]', text) if word != \" \"])  # 中文字符提取及拼接\n",
    "    return text\n",
    "\n",
    "def df_proc_pipeline(df, col_name, branch_dic):\n",
    "    df[col_name] = df[col_name].replace(branch_dic, regex=True)  # 特定英文品牌替换  # 重点\n",
    "    df[col_name] = df[col_name].apply(lambda x: data_clean(x))  # 数据清洗\n",
    "    df.drop_duplicates(subset=[col_name], inplace=True)  # 去重\n",
    "    return df\n",
    "\n",
    "df = df_proc_pipeline(df, '描述', branch_dic)\n",
    "df.sample(10)\n",
    "\n"
   ],
   "metadata": {
    "collapsed": false,
    "ExecuteTime": {
     "end_time": "2023-08-25T06:25:57.574523900Z",
     "start_time": "2023-08-25T06:25:57.391488Z"
    }
   }
  },
  {
   "cell_type": "code",
   "execution_count": 278,
   "outputs": [
    {
     "data": {
      "text/plain": "(1083, 3)"
     },
     "execution_count": 278,
     "metadata": {},
     "output_type": "execute_result"
    }
   ],
   "source": [
    "df.shape"
   ],
   "metadata": {
    "collapsed": false,
    "ExecuteTime": {
     "end_time": "2023-08-25T06:25:57.636075800Z",
     "start_time": "2023-08-25T06:25:57.498005300Z"
    }
   }
  },
  {
   "cell_type": "code",
   "execution_count": 280,
   "outputs": [],
   "source": [
    "df.to_csv('dataset.csv', index=False, encoding='ansi')"
   ],
   "metadata": {
    "collapsed": false,
    "ExecuteTime": {
     "end_time": "2023-08-25T06:27:28.936664900Z",
     "start_time": "2023-08-25T06:27:28.896884300Z"
    }
   }
  },
  {
   "cell_type": "code",
   "execution_count": null,
   "outputs": [],
   "source": [
    "# 根据字典替换\n",
    "# df['描述'] = df['描述'].replace(branch_dic, regex=True)"
   ],
   "metadata": {
    "collapsed": false,
    "ExecuteTime": {
     "start_time": "2023-08-25T06:25:58.880042200Z"
    }
   }
  },
  {
   "cell_type": "code",
   "execution_count": null,
   "outputs": [],
   "source": [
    "# example\n",
    "# str = '6580967026,6,饭圈一姐蔡根花,山西,200,200,234,谁看完电影{}《无名》🎥的最新剧照不发疯啊[抓狂][抓狂][抓狂]真的真的真的好有质感啊，王一博身上的破碎感好吸引人，这个阵容真的好强❗️ 5'\n",
    "# res = re.sub('[^a-zA-Z0-9,<.>/?;:\\'\\\"\\[\\]{}\\\\\\|`~!@#$%^&*()_\\-+= \\t\\n\\r\\f\\v，《。》？；：’‘”“【】、·！—\\u4e00-\\u9fa5]', '', text)\n",
    "# res"
   ],
   "metadata": {
    "collapsed": false
   }
  },
  {
   "cell_type": "code",
   "execution_count": null,
   "outputs": [],
   "source": [
    "# 【 专 】 西 门 子 升 嵌 入 式 单 冷 藏 冰 箱\n",
    "# ◇ 老 板 紫 焰 大 火 燃 气 灶\n",
    "# △ 老 板 蒸 烤 炸 一 体 机\n",
    "# # 咖 啡 机\n",
    "# Ⅱ 得 力 针 式 打 印 机\n",
    "# 三 星 ？ 手 表\n"
   ],
   "metadata": {
    "collapsed": false
   }
  }
 ],
 "metadata": {
  "kernelspec": {
   "display_name": "Python 3",
   "language": "python",
   "name": "python3"
  },
  "language_info": {
   "codemirror_mode": {
    "name": "ipython",
    "version": 2
   },
   "file_extension": ".py",
   "mimetype": "text/x-python",
   "name": "python",
   "nbconvert_exporter": "python",
   "pygments_lexer": "ipython2",
   "version": "2.7.6"
  }
 },
 "nbformat": 4,
 "nbformat_minor": 0
}
